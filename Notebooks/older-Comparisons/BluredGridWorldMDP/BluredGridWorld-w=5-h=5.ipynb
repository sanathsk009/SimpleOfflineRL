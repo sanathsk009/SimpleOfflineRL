{
 "cells": [
  {
   "cell_type": "code",
   "execution_count": 1,
   "id": "0a0a76d2",
   "metadata": {},
   "outputs": [],
   "source": [
    "# imports\n",
    "from OfflineSRL.MDPDataset.old_dataset import *\n",
    "from OfflineSRL.MDP.old_MDP import MDP\n",
    "from OfflineSRL.MDP.ChainBandit import ChainBanditMDP\n",
    "from OfflineSRL.MDP.ChainBanditState import ChainBanditState\n",
    "from OfflineSRL.BPolicy.ChainBanditPolicy import ChainBanditPolicy\n",
    "\n",
    "# Learners\n",
    "from OfflineSRL.OfflineLearners.offlineLearners import VI, PVI, SPVI, PesBandit\n",
    "\n",
    "# GridWorld\n",
    "from OfflineSRL.MDP.GridWorldMDPClass import GridWorldMDP\n",
    "from OfflineSRL.MDP.GridWorldStateClass import GridWorldState\n",
    "from OfflineSRL.BPolicy.UniformRandomPolicy import UniformRandomPolicy\n",
    "\n",
    "# BluredGridWorld\n",
    "from OfflineSRL.MDP.BluredGridWorldClass import BluredGridWorldMDP\n",
    "\n",
    "import copy\n",
    "import numpy as np\n",
    "import math"
   ]
  },
  {
   "cell_type": "code",
   "execution_count": 2,
   "id": "640c7302",
   "metadata": {},
   "outputs": [],
   "source": [
    "def get_dataset(mdp, policy, horizon = 50, neps = 50):    \n",
    "    # Generate data\n",
    "    mdp.reset()\n",
    "    observations = []\n",
    "    actions = []\n",
    "    rewards = []\n",
    "    terminals = []\n",
    "    for eps in range(neps):\n",
    "        for timestep in range(horizon+2):\n",
    "            # Get state.\n",
    "            # Add state to list.\n",
    "            cur_state = copy.deepcopy(mdp.cur_state)\n",
    "            observations.append(copy.deepcopy(cur_state._vrepr()))\n",
    "\n",
    "            # Get action\n",
    "            # Add action to list\n",
    "            cur_action = policy._get_action(state = cur_state)\n",
    "            actions.append(copy.deepcopy(cur_action))\n",
    "\n",
    "            # Execute action\n",
    "            reward, next_state = mdp.execute_agent_action(cur_action)\n",
    "            # Add reward\n",
    "            rewards.append(copy.deepcopy(reward))\n",
    "\n",
    "            terminals.append(0)\n",
    "        mdp.reset()\n",
    "        terminals[-1] = 1\n",
    "        \n",
    "    # Convert to MDPDataset format\n",
    "    observations = np.array(observations)\n",
    "    actions = np.array(actions)\n",
    "    rewards = np.array(rewards)\n",
    "    terminals = np.array(terminals)\n",
    "\n",
    "    dataset = MDPDataset(\n",
    "        observations=observations,\n",
    "        actions=actions,\n",
    "        rewards=rewards,\n",
    "        terminals=terminals,\n",
    "    )\n",
    "    \n",
    "    return observations, policy, dataset, actions, rewards, terminals"
   ]
  },
  {
   "cell_type": "code",
   "execution_count": 3,
   "id": "7b051d93",
   "metadata": {},
   "outputs": [],
   "source": [
    "import math\n",
    "def evaluate_learner(option, observations, mdp, policy, dataset, horizon, neps = 5000):\n",
    "    max_step_reward = 1\n",
    "    abs_max_ep_reward = math.inf\n",
    "    min_step_reward = -1\n",
    "    if option == \"VI\":\n",
    "        vi = VI(name = \"vi\", states = observations, actions = policy.actions, epLen = horizon)\n",
    "    if option == \"PVI\":\n",
    "        vi = PVI(name = \"pvi\", states = observations, actions = policy.actions, epLen = horizon, \n",
    "                 max_step_reward = max_step_reward, min_step_reward = min_step_reward, abs_max_ep_reward = abs_max_ep_reward)\n",
    "    if option == \"SPVI\":\n",
    "        vi = SPVI(name = \"spvi\", states = observations, actions = policy.actions, epLen = horizon, bpolicy = policy,\n",
    "                  max_step_reward = max_step_reward, min_step_reward = min_step_reward, abs_max_ep_reward = abs_max_ep_reward)\n",
    "    if option == \"PSL\":\n",
    "        vi = PesBandit(name = \"psl\", states = observations, actions = policy.actions, epLen = horizon)\n",
    "    vi.fit(dataset)\n",
    "    \n",
    "    mdp.reset()\n",
    "    viobservations = []\n",
    "    viactions = []\n",
    "    virewards = []\n",
    "    viterminals = []\n",
    "    for eps in range(neps):\n",
    "        for timestep in range(horizon):\n",
    "            # Get state.\n",
    "            # Add state to list.\n",
    "            cur_state = copy.deepcopy(mdp.cur_state)\n",
    "            viobservations.append(copy.deepcopy(cur_state._vrepr()))\n",
    "\n",
    "            # Get action\n",
    "            # Add action to list\n",
    "            cur_action = vi.act(copy.deepcopy(cur_state._vrepr()), timestep)\n",
    "            viactions.append(copy.deepcopy(cur_action))\n",
    "\n",
    "            # Execute action\n",
    "            reward, next_state = mdp.execute_agent_action(cur_action)\n",
    "            # Add reward\n",
    "            virewards.append(copy.deepcopy(reward))\n",
    "\n",
    "            viterminals.append(0)\n",
    "        mdp.reset()\n",
    "        viterminals[-1] = 1\n",
    "    return np.sum(np.array(virewards))/neps"
   ]
  },
  {
   "cell_type": "code",
   "execution_count": 4,
   "id": "f9b5762b",
   "metadata": {},
   "outputs": [],
   "source": [
    "# Initialize MDP and Policy\n",
    "#width, height = 10, 3\n",
    "width, height = 5, 5\n",
    "mdp = BluredGridWorldMDP(width=width,\n",
    "                 height=height,\n",
    "                 init_loc=(1, 1),\n",
    "                 rand_init=True,\n",
    "                 goal_locs=[(2,2)],\n",
    "                 lava_locs=[(4,4)],\n",
    "                 walls=[],\n",
    "                 is_goal_terminal=True,\n",
    "                 is_lava_terminal=False,\n",
    "                 gamma=0.99,\n",
    "                 slip_prob=0.0,\n",
    "                 step_cost=0.0,\n",
    "                 lava_cost=1.0,\n",
    "                 name=\"bluredgridworld\")\n",
    "policy = UniformRandomPolicy(mdp)\n",
    "state_list = np.array([[i,j] for i in range(width+1) for j in range(height+1)])"
   ]
  },
  {
   "cell_type": "code",
   "execution_count": 5,
   "id": "6d66f10c-7205-47bb-8e25-c6ceea43eb17",
   "metadata": {},
   "outputs": [
    {
     "name": "stdout",
     "output_type": "stream",
     "text": [
      "10000\n",
      "20000\n",
      "40000\n",
      "80000\n",
      "160000\n",
      "320000\n",
      "640000\n",
      "1280000\n",
      "2560000\n",
      "5120000\n"
     ]
    }
   ],
   "source": [
    "rew_dict = {}\n",
    "option_list = [\"PSL\",\"PVI\",\"SPVI\"]\n",
    "for option in option_list:\n",
    "    rew_dict[option] = {}\n",
    "n_runs = 3\n",
    "horizon = max(width, height)\n",
    "neps_list = [int(math.pow(2,i))*10000 for i in range(10)] #+ [1000 + (i)*1000 for i in range(10)]\n",
    "#neps_list = [50, 100, 200, 400, 800, 1600, 3200]\n",
    "#neps_list = [50, 100, 200, 400, 800, 1600]#, 300, 400, 500, 600, 700, 800, 900, 1000, 1100, 1200, 1300, 1400, 1500, 1600, 1700, 1800, 1900, 2000]\n",
    "for neps in neps_list:\n",
    "    print(neps)\n",
    "    for option in option_list:\n",
    "        rew_dict[option][neps] = []\n",
    "    for run in range(n_runs):\n",
    "        observations, policy, dataset, actions, rewards, terminals = get_dataset(mdp, policy, horizon = horizon, neps = neps)\n",
    "        for option in option_list:\n",
    "            rew_dict[option][neps].append(evaluate_learner(option, state_list, mdp, policy, dataset, horizon))\n",
    "            #print(option)\n",
    "            #print(option, neps, evaluate_learner(option, copy.deepcopy(observations), policy, dataset, horizon))"
   ]
  },
  {
   "cell_type": "code",
   "execution_count": 6,
   "id": "9758c042",
   "metadata": {},
   "outputs": [],
   "source": [
    "rew = {}\n",
    "err = {}\n",
    "for option in option_list:\n",
    "    rew[option] = []\n",
    "    err[option] = []\n",
    "for neps in neps_list:\n",
    "    for option in option_list:\n",
    "        rew[option].append(np.mean(rew_dict[option][neps]))\n",
    "        err[option].append(np.std(rew_dict[option][neps])/np.sqrt(n_runs))"
   ]
  },
  {
   "cell_type": "code",
   "execution_count": 12,
   "id": "7cd755ab",
   "metadata": {},
   "outputs": [
    {
     "data": {
      "image/png": "[encoded data removed]",
      "text/plain": [
       "<Figure size 640x480 with 1 Axes>"
      ]
     },
     "metadata": {},
     "output_type": "display_data"
    }
   ],
   "source": [
    "import matplotlib.pyplot as plt\n",
    "# if using a Jupyter notebook, include:\n",
    "%matplotlib inline\n",
    "\n",
    "fig, ax = plt.subplots()\n",
    "for option in option_list:\n",
    "    x = neps_list[:4]\n",
    "    y = rew[option][:4]\n",
    "    yerr = err[option][:4]\n",
    "    ax.errorbar(x, y,\n",
    "                yerr=yerr,\n",
    "                fmt='-o', label = option)\n",
    "\n",
    "\n",
    "ax.set_xlabel('Number of training episodes')\n",
    "ax.set_ylabel('Test reward')\n",
    "ax.set_title('BluredGridWorld: width = '+str(width)+' height ='+str(height))\n",
    "plt.legend()\n",
    "\n",
    "plt.savefig('BluredGridWorld: width = '+str(width)+' height ='+str(height))\n",
    "plt.show()"
   ]
  },
  {
   "cell_type": "code",
   "execution_count": 8,
   "id": "a1497cae-ae16-46ea-88af-673976f9dc00",
   "metadata": {},
   "outputs": [
    {
     "data": {
      "text/plain": [
       "{'PSL': [0.20993333333333333,\n",
       "  0.29539999999999994,\n",
       "  0.29486666666666667,\n",
       "  0.2858,\n",
       "  0.29346666666666665,\n",
       "  0.29833333333333334,\n",
       "  0.30373333333333336,\n",
       "  0.2928,\n",
       "  0.27646666666666664,\n",
       "  0.2958],\n",
       " 'PVI': [0.4617333333333334,\n",
       "  0.4616,\n",
       "  0.4523333333333333,\n",
       "  0.46173333333333333,\n",
       "  0.45480000000000004,\n",
       "  0.4552666666666667,\n",
       "  0.46413333333333334,\n",
       "  0.44906666666666667,\n",
       "  0.4443333333333333,\n",
       "  0.45533333333333337],\n",
       " 'SPVI': [0.3852,\n",
       "  0.44060000000000005,\n",
       "  0.4465333333333333,\n",
       "  0.4590666666666667,\n",
       "  0.4523333333333333,\n",
       "  0.4525333333333334,\n",
       "  0.4444000000000001,\n",
       "  0.4618,\n",
       "  0.45879999999999993,\n",
       "  0.45999999999999996]}"
      ]
     },
     "execution_count": 8,
     "metadata": {},
     "output_type": "execute_result"
    }
   ],
   "source": [
    "rew"
   ]
  },
  {
   "cell_type": "code",
   "execution_count": 9,
   "id": "7ac89752-8043-4ed6-ad76-95aad74e4a3e",
   "metadata": {},
   "outputs": [],
   "source": [
    "# open file for writing\n",
    "f = open('BluredGridWorld: width = '+str(width)+' height ='+str(height)+\".txt\",\"w\")\n",
    "\n",
    "# write file\n",
    "f.write( str(rew_dict) )\n",
    "\n",
    "# close file\n",
    "f.close()"
   ]
  },
  {
   "cell_type": "code",
   "execution_count": null,
   "id": "dd265db4-4008-487a-965a-2a7b71151c26",
   "metadata": {},
   "outputs": [],
   "source": []
  }
 ],
 "metadata": {
  "kernelspec": {
   "display_name": "Python 3 (ipykernel)",
   "language": "python",
   "name": "python3"
  },
  "language_info": {
   "codemirror_mode": {
    "name": "ipython",
    "version": 3
   },
   "file_extension": ".py",
   "mimetype": "text/x-python",
   "name": "python",
   "nbconvert_exporter": "python",
   "pygments_lexer": "ipython3",
   "version": "3.10.6"
  }
 },
 "nbformat": 4,
 "nbformat_minor": 5
}
